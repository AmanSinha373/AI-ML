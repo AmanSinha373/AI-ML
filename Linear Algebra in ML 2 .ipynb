{
 "cells": [
  {
   "cell_type": "markdown",
   "id": "734a9d7b-943f-4c95-9f42-aea18d36f53a",
   "metadata": {},
   "source": [
    "Stats"
   ]
  },
  {
   "cell_type": "code",
   "execution_count": 13,
   "id": "52ba0ee8-5cbd-43b5-a76d-520e865ca6f4",
   "metadata": {},
   "outputs": [],
   "source": [
    "#Measuers of Central Tendency"
   ]
  },
  {
   "cell_type": "markdown",
   "id": "4d5655b2-2393-4695-8271-d96f390146cd",
   "metadata": {},
   "source": [
    " Mean (Average)"
   ]
  },
  {
   "cell_type": "code",
   "execution_count": 2,
   "id": "d80cc14d-0163-4b81-a2ec-65dad51fe5b9",
   "metadata": {},
   "outputs": [
    {
     "name": "stdout",
     "output_type": "stream",
     "text": [
      "70.0\n"
     ]
    }
   ],
   "source": [
    "import numpy as np\n",
    "marks= [80,85,90,35,60]\n",
    "mean= np.mean(marks)\n",
    "print(mean)"
   ]
  },
  {
   "cell_type": "markdown",
   "id": "d326bebe-37a1-41c9-b006-fca3fa097a2e",
   "metadata": {},
   "source": [
    "Median (Middle Value)"
   ]
  },
  {
   "cell_type": "code",
   "execution_count": 4,
   "id": "118c434b-ca5a-4168-978d-38ba3e0071b7",
   "metadata": {},
   "outputs": [
    {
     "name": "stdout",
     "output_type": "stream",
     "text": [
      "80.0\n"
     ]
    }
   ],
   "source": [
    "median= np.median(marks)\n",
    "print(median) # Sorted list - [60,75,80,85,90]"
   ]
  },
  {
   "cell_type": "markdown",
   "id": "21878510-2157-4549-b7ae-2a86a198e83d",
   "metadata": {},
   "source": [
    "Mode (Most frequent)"
   ]
  },
  {
   "cell_type": "code",
   "execution_count": 12,
   "id": "c9aafcc6-3901-4006-8aac-45675a2367ef",
   "metadata": {},
   "outputs": [
    {
     "name": "stdout",
     "output_type": "stream",
     "text": [
      "Mode: 35\n"
     ]
    }
   ],
   "source": [
    "from scipy import stats\n",
    "mode= stats.mode(marks)\n",
    "print(\"Mode:\", mode.mode)"
   ]
  },
  {
   "cell_type": "markdown",
   "id": "ac9f28fa-171b-4eb4-9729-a679be99f896",
   "metadata": {},
   "source": [
    "#Measure of Spread"
   ]
  },
  {
   "cell_type": "markdown",
   "id": "cde66d22-5806-462d-af24-3348164891ea",
   "metadata": {},
   "source": [
    "Variance"
   ]
  },
  {
   "cell_type": "code",
   "execution_count": 15,
   "id": "ec8f73ca-88f9-4289-970c-cc1f374aa8ed",
   "metadata": {},
   "outputs": [
    {
     "name": "stdout",
     "output_type": "stream",
     "text": [
      "410.0\n"
     ]
    }
   ],
   "source": [
    "variance = np.var(marks)\n",
    "print(variance)"
   ]
  },
  {
   "cell_type": "markdown",
   "id": "752f20b3-47e8-4c0a-bc22-0836f314cd41",
   "metadata": {},
   "source": [
    "Standard Deviation (Basically square root of Variance)"
   ]
  },
  {
   "cell_type": "code",
   "execution_count": 16,
   "id": "f9bc77a1-2fb4-43c0-a62e-7f637563501a",
   "metadata": {},
   "outputs": [
    {
     "name": "stdout",
     "output_type": "stream",
     "text": [
      "20.248456731316587\n"
     ]
    }
   ],
   "source": [
    "std_dev= np.std(marks)\n",
    "print(std_dev)"
   ]
  },
  {
   "cell_type": "code",
   "execution_count": 17,
   "id": "dae34345-056d-4273-820f-bba197d2f20a",
   "metadata": {},
   "outputs": [],
   "source": [
    "#Visual "
   ]
  },
  {
   "cell_type": "code",
   "execution_count": 20,
   "id": "bbe0521d-0d33-48f6-9b0f-4be7d1484a33",
   "metadata": {},
   "outputs": [
    {
     "data": {
      "image/png": "[encoded data removed]",
      "text/plain": [
       "<Figure size 640x480 with 1 Axes>"
      ]
     },
     "metadata": {},
     "output_type": "display_data"
    }
   ],
   "source": [
    "import matplotlib.pyplot as plt\n",
    "import seaborn as sns\n",
    "sns.histplot(marks,kde=True)\n",
    "plt.title(\"Students marks distribution\")\n",
    "plt.show()"
   ]
  },
  {
   "cell_type": "markdown",
   "id": "e4e02599-89e5-42a2-aa2f-e192730d88ad",
   "metadata": {},
   "source": [
    "Mini Project on Titanic Dataset"
   ]
  },
  {
   "cell_type": "code",
   "execution_count": 29,
   "id": "6f4d0ec1-2af3-4d89-a9e3-c2d1eeb2bf09",
   "metadata": {},
   "outputs": [
    {
     "name": "stdout",
     "output_type": "stream",
     "text": [
      "   PassengerId  Pclass                                          Name     Sex  \\\n",
      "0          892       3                              Kelly, Mr. James    male   \n",
      "1          893       3              Wilkes, Mrs. James (Ellen Needs)  female   \n",
      "2          894       2                     Myles, Mr. Thomas Francis    male   \n",
      "3          895       3                              Wirz, Mr. Albert    male   \n",
      "4          896       3  Hirvonen, Mrs. Alexander (Helga E Lindqvist)  female   \n",
      "\n",
      "    Age  SibSp  Parch   Ticket     Fare Cabin Embarked  \n",
      "0  34.5      0      0   330911   7.8292   NaN        Q  \n",
      "1  47.0      1      0   363272   7.0000   NaN        S  \n",
      "2  62.0      0      0   240276   9.6875   NaN        Q  \n",
      "3  27.0      0      0   315154   8.6625   NaN        S  \n",
      "4  22.0      1      1  3101298  12.2875   NaN        S  \n"
     ]
    }
   ],
   "source": [
    "import pandas as pd\n",
    "df = pd.read_csv(r\"C:\\Users\\Aman Sinha\\Downloads\\test.csv\")\n",
    "print(df.head())\n"
   ]
  },
  {
   "cell_type": "code",
   "execution_count": 31,
   "id": "60c4d74a-37e0-45b8-b622-f707b726a2c3",
   "metadata": {},
   "outputs": [
    {
     "name": "stdout",
     "output_type": "stream",
     "text": [
      "Mean age 30.272590361445783\n"
     ]
    },
    {
     "name": "stderr",
     "output_type": "stream",
     "text": [
      "C:\\Users\\Aman Sinha\\AppData\\Local\\Temp\\ipykernel_14304\\4004305752.py:1: FutureWarning: A value is trying to be set on a copy of a DataFrame or Series through chained assignment using an inplace method.\n",
      "The behavior will change in pandas 3.0. This inplace method will never work because the intermediate object on which we are setting values always behaves as a copy.\n",
      "\n",
      "For example, when doing 'df[col].method(value, inplace=True)', try using 'df.method({col: value}, inplace=True)' or df[col] = df[col].method(value) instead, to perform the operation inplace on the original object.\n",
      "\n",
      "\n",
      "  df['Age'].fillna(df['Age'].mean(), inplace = True)\n"
     ]
    }
   ],
   "source": [
    "df['Age'].fillna(df['Age'].mean(), inplace = True)\n",
    "print(\"Mean age\", df['Age'].mean())"
   ]
  },
  {
   "cell_type": "code",
   "execution_count": 32,
   "id": "27056ac9-56ff-416f-b864-ff5e173e1eca",
   "metadata": {},
   "outputs": [
    {
     "name": "stdout",
     "output_type": "stream",
     "text": [
      "Median age 30.272590361445783\n"
     ]
    }
   ],
   "source": [
    "print(\"Median age\", df[\"Age\"].median())"
   ]
  },
  {
   "cell_type": "code",
   "execution_count": 34,
   "id": "54e02a4a-20b8-45d6-9856-c7df4b96937b",
   "metadata": {},
   "outputs": [
    {
     "name": "stdout",
     "output_type": "stream",
     "text": [
      "Standard deviation 0      34.50000\n",
      "1      47.00000\n",
      "2      62.00000\n",
      "3      27.00000\n",
      "4      22.00000\n",
      "         ...   \n",
      "413    30.27259\n",
      "414    39.00000\n",
      "415    38.50000\n",
      "416    30.27259\n",
      "417    30.27259\n",
      "Name: Age, Length: 418, dtype: float64\n"
     ]
    }
   ],
   "source": [
    "print(\"Standard deviation\", df[\"Age\"])"
   ]
  },
  {
   "cell_type": "code",
   "execution_count": null,
   "id": "4d30d79a-8aa3-4789-bea1-1ad8daad0a1c",
   "metadata": {},
   "outputs": [],
   "source": []
  }
 ],
 "metadata": {
  "kernelspec": {
   "display_name": "Python 3 (ipykernel)",
   "language": "python",
   "name": "python3"
  },
  "language_info": {
   "codemirror_mode": {
    "name": "ipython",
    "version": 3
   },
   "file_extension": ".py",
   "mimetype": "text/x-python",
   "name": "python",
   "nbconvert_exporter": "python",
   "pygments_lexer": "ipython3",
   "version": "3.11.0"
  }
 },
 "nbformat": 4,
 "nbformat_minor": 5
}
