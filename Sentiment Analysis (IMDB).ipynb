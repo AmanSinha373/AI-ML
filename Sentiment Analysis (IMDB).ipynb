{
 "cells": [
  {
   "cell_type": "markdown",
   "id": "93faceeb-aa34-4f5f-aad9-a948eab48129",
   "metadata": {},
   "source": [
    "## IMDB sentiment analysis"
   ]
  },
  {
   "cell_type": "markdown",
   "id": "9d69bd77-4109-4b2d-ac1a-d8acf81eed52",
   "metadata": {},
   "source": [
    "# Importing Libraries"
   ]
  },
  {
   "cell_type": "code",
   "execution_count": 7,
   "id": "ecc02ce0-f40f-4712-b72f-54850dc82922",
   "metadata": {},
   "outputs": [],
   "source": [
    "import tensorflow as tf\n",
    "from tensorflow.keras.datasets import imdb # built in dataset\n",
    "from tensorflow.keras.preprocessing.sequence import pad_sequences # to pad text to same size\n",
    "from tensorflow.keras.models import Sequential # Allows us to build a model layer by layer\n",
    "from tensorflow.keras.layers import Embedding, SimpleRNN, LSTM, GRU, Dense # Layers we'll use"
   ]
  },
  {
   "cell_type": "markdown",
   "id": "5d248712-5ed1-4a2f-969a-46b6faebb478",
   "metadata": {},
   "source": [
    "# Load Dataset"
   ]
  },
  {
   "cell_type": "code",
   "execution_count": 2,
   "id": "22298c30-f8d2-4379-bb0f-421be1168912",
   "metadata": {},
   "outputs": [
    {
     "name": "stdout",
     "output_type": "stream",
     "text": [
      "Downloading data from https://storage.googleapis.com/tensorflow/tf-keras-datasets/imdb.npz\n",
      "17464789/17464789 [==============================] - 32s 2us/step\n"
     ]
    }
   ],
   "source": [
    "(X_train,y_train), (X_test, y_test)= imdb.load_data(num_words=10000)  #num_words=10000 means only keep the top 10,000 most common words"
   ]
  },
  {
   "cell_type": "markdown",
   "id": "309458f2-5a28-431f-98f4-2c19a902f684",
   "metadata": {},
   "source": [
    "# Pad the sequences"
   ]
  },
  {
   "cell_type": "code",
   "execution_count": 3,
   "id": "1d1bb46f-545d-44cb-a2a0-9d88f06d1993",
   "metadata": {},
   "outputs": [],
   "source": [
    "X_train = pad_sequences(X_train, maxlen=300) # All reviews are now 300 words long\n",
    "X_test = pad_sequences(X_test, maxlen=300)"
   ]
  },
  {
   "cell_type": "markdown",
   "id": "460c5fac-1bbc-4e8e-88c8-b23b06daa6f2",
   "metadata": {},
   "source": [
    "## Build the model"
   ]
  },
  {
   "cell_type": "code",
   "execution_count": 17,
   "id": "86e9c261-9e34-43d2-85a4-93684366cbf6",
   "metadata": {},
   "outputs": [],
   "source": [
    "model= Sequential() # Basic model where we stack layers one by one\n",
    "model.add(Embedding(input_dim=10000, output_dim=32, input_length=300))\n",
    "model.add(LSTM(units=32))  # LSTM layer with 32 memory units(neurons)\n",
    "model.add(Dense(1, activation='sigmoid')) # Final output layer\" 1 neuron, gives us probabilty"
   ]
  },
  {
   "cell_type": "markdown",
   "id": "64d6b0d7-6fee-4b3e-bc12-a6e4aa2f8b39",
   "metadata": {},
   "source": [
    "## Compile the model"
   ]
  },
  {
   "cell_type": "code",
   "execution_count": 20,
   "id": "cceb333a-c43b-43ba-9735-9c8acc373453",
   "metadata": {},
   "outputs": [],
   "source": [
    "model.compile(optimizer='adam', loss='binary_crossentropy', metrics=['accuracy'])"
   ]
  },
  {
   "cell_type": "markdown",
   "id": "13455f42-3b24-4ad2-9449-488da47d4bfe",
   "metadata": {},
   "source": [
    "# Train the model"
   ]
  },
  {
   "cell_type": "code",
   "execution_count": 21,
   "id": "029a3c62-84ef-4ac3-844c-e24d6a966adc",
   "metadata": {},
   "outputs": [
    {
     "name": "stdout",
     "output_type": "stream",
     "text": [
      "Epoch 1/3\n",
      "WARNING:tensorflow:From C:\\Users\\Aman Sinha\\AppData\\Local\\Programs\\Python\\Python311\\Lib\\site-packages\\keras\\src\\utils\\tf_utils.py:492: The name tf.ragged.RaggedTensorValue is deprecated. Please use tf.compat.v1.ragged.RaggedTensorValue instead.\n",
      "\n",
      "WARNING:tensorflow:From C:\\Users\\Aman Sinha\\AppData\\Local\\Programs\\Python\\Python311\\Lib\\site-packages\\keras\\src\\engine\\base_layer_utils.py:384: The name tf.executing_eagerly_outside_functions is deprecated. Please use tf.compat.v1.executing_eagerly_outside_functions instead.\n",
      "\n",
      "313/313 [==============================] - 39s 115ms/step - loss: 0.4303 - accuracy: 0.7979 - val_loss: 0.3301 - val_accuracy: 0.8722\n",
      "Epoch 2/3\n",
      "313/313 [==============================] - 40s 128ms/step - loss: 0.2392 - accuracy: 0.9087 - val_loss: 0.3040 - val_accuracy: 0.8758\n",
      "Epoch 3/3\n",
      "313/313 [==============================] - 42s 136ms/step - loss: 0.1813 - accuracy: 0.9351 - val_loss: 0.3118 - val_accuracy: 0.8720\n"
     ]
    },
    {
     "data": {
      "text/plain": [
       "<keras.src.callbacks.History at 0x1795e50be50>"
      ]
     },
     "execution_count": 21,
     "metadata": {},
     "output_type": "execute_result"
    }
   ],
   "source": [
    "model.fit(X_train, y_train, epochs=3, batch_size=64, validation_split=0.2)"
   ]
  },
  {
   "cell_type": "markdown",
   "id": "2587ace2-b8eb-47b1-92a0-544ca977d8b5",
   "metadata": {},
   "source": [
    "# Evaluate "
   ]
  },
  {
   "cell_type": "code",
   "execution_count": 22,
   "id": "9e6f00df-4783-4b9f-8855-75756e2bfc59",
   "metadata": {},
   "outputs": [
    {
     "name": "stdout",
     "output_type": "stream",
     "text": [
      "782/782 [==============================] - 23s 30ms/step - loss: 0.3256 - accuracy: 0.8688\n",
      "Test Accuracy: 0.8688399791717529\n"
     ]
    }
   ],
   "source": [
    "test_loss, test_acc = model.evaluate(X_test,y_test)\n",
    "print(\"Test Accuracy:\", test_acc)"
   ]
  },
  {
   "cell_type": "markdown",
   "id": "435b61a7-f306-41b7-814b-b20821c25f65",
   "metadata": {},
   "source": [
    "# Try GRU"
   ]
  },
  {
   "cell_type": "code",
   "execution_count": 23,
   "id": "c0c47380-3958-434f-914d-2c76f7d15ef0",
   "metadata": {},
   "outputs": [
    {
     "name": "stdout",
     "output_type": "stream",
     "text": [
      "Epoch 1/3\n",
      "313/313 [==============================] - 44s 133ms/step - loss: 0.4523 - accuracy: 0.7698 - val_loss: 0.3176 - val_accuracy: 0.8696\n",
      "Epoch 2/3\n",
      "313/313 [==============================] - 42s 136ms/step - loss: 0.2347 - accuracy: 0.9099 - val_loss: 0.2976 - val_accuracy: 0.8814\n",
      "Epoch 3/3\n",
      "313/313 [==============================] - 42s 135ms/step - loss: 0.1702 - accuracy: 0.9388 - val_loss: 0.3233 - val_accuracy: 0.8748\n"
     ]
    },
    {
     "data": {
      "text/plain": [
       "<keras.src.callbacks.History at 0x17965d29050>"
      ]
     },
     "execution_count": 23,
     "metadata": {},
     "output_type": "execute_result"
    }
   ],
   "source": [
    "model2 = Sequential()\n",
    "model2.add(Embedding(10000, 32, input_length=300))\n",
    "model2.add(GRU(32))  # Switchting between LSTM, GRU, or SimpleRNN here\n",
    "model2.add(Dense(1, activation='sigmoid'))\n",
    "model2.compile(optimizer='adam', loss='binary_crossentropy', metrics=['accuracy'])\n",
    "model2.fit(X_train, y_train, epochs=3, batch_size=64, validation_split=0.2)\n"
   ]
  },
  {
   "cell_type": "code",
   "execution_count": 24,
   "id": "10a4c78d-e689-42d7-a78a-1e18c998daaa",
   "metadata": {},
   "outputs": [
    {
     "name": "stdout",
     "output_type": "stream",
     "text": [
      "782/782 [==============================] - 22s 28ms/step - loss: 0.3356 - accuracy: 0.8712\n",
      "Test Accuracy: 0.8712000250816345\n"
     ]
    }
   ],
   "source": [
    "test_loss, test_acc = model2.evaluate(X_test,y_test)\n",
    "print(\"Test Accuracy:\", test_acc)"
   ]
  },
  {
   "cell_type": "markdown",
   "id": "0c813e70-9454-4e6b-9063-e702fab46a7b",
   "metadata": {},
   "source": [
    "# Trying LSTM"
   ]
  },
  {
   "cell_type": "code",
   "execution_count": 25,
   "id": "04e57af1-744a-414c-82db-77c922cff436",
   "metadata": {},
   "outputs": [
    {
     "name": "stdout",
     "output_type": "stream",
     "text": [
      "Epoch 1/3\n",
      "313/313 [==============================] - 40s 119ms/step - loss: 0.4961 - accuracy: 0.7598 - val_loss: 0.3454 - val_accuracy: 0.8586\n",
      "Epoch 2/3\n",
      "313/313 [==============================] - 43s 139ms/step - loss: 0.2669 - accuracy: 0.8959 - val_loss: 0.3069 - val_accuracy: 0.8742\n",
      "Epoch 3/3\n",
      "313/313 [==============================] - 43s 137ms/step - loss: 0.1843 - accuracy: 0.9334 - val_loss: 0.3182 - val_accuracy: 0.8714\n"
     ]
    },
    {
     "data": {
      "text/plain": [
       "<keras.src.callbacks.History at 0x1796344d590>"
      ]
     },
     "execution_count": 25,
     "metadata": {},
     "output_type": "execute_result"
    }
   ],
   "source": [
    "model3 = Sequential()\n",
    "model3.add(Embedding(10000, 32, input_length=300))\n",
    "model3.add(LSTM(32))  # Switchting between LSTM, GRU, or SimpleRNN here\n",
    "model3.add(Dense(1, activation='sigmoid'))\n",
    "model3.compile(optimizer='adam', loss='binary_crossentropy', metrics=['accuracy'])\n",
    "model3.fit(X_train, y_train, epochs=3, batch_size=64, validation_split=0.2)\n"
   ]
  },
  {
   "cell_type": "code",
   "execution_count": 26,
   "id": "65c1e083-4687-4a3f-8978-68a4ba57fc53",
   "metadata": {},
   "outputs": [
    {
     "name": "stdout",
     "output_type": "stream",
     "text": [
      "782/782 [==============================] - 27s 34ms/step - loss: 0.3296 - accuracy: 0.8678\n",
      "Test Accuracy: 0.8677999973297119\n"
     ]
    }
   ],
   "source": [
    "test_loss, test_acc = model3.evaluate(X_test,y_test)\n",
    "print(\"Test Accuracy:\", test_acc)"
   ]
  },
  {
   "cell_type": "markdown",
   "id": "f0b24199-6a86-4ffa-abbb-fabaa1a372b0",
   "metadata": {},
   "source": [
    "I experimented with RNN, GRU, and LSTM for sentiment analysis on the IMDB dataset.\n",
    "I compared accuracy, training time, and generalization.\n",
    "GRU performed best with 87.12% accuracy and lowest training time.\n",
    "Based on this, I chose GRU for deployment."
   ]
  },
  {
   "cell_type": "code",
   "execution_count": null,
   "id": "41399921-1c11-4b34-b040-ff656614e43d",
   "metadata": {},
   "outputs": [],
   "source": []
  }
 ],
 "metadata": {
  "kernelspec": {
   "display_name": "Python 3 (ipykernel)",
   "language": "python",
   "name": "python3"
  },
  "language_info": {
   "codemirror_mode": {
    "name": "ipython",
    "version": 3
   },
   "file_extension": ".py",
   "mimetype": "text/x-python",
   "name": "python",
   "nbconvert_exporter": "python",
   "pygments_lexer": "ipython3",
   "version": "3.11.0"
  }
 },
 "nbformat": 4,
 "nbformat_minor": 5
}
