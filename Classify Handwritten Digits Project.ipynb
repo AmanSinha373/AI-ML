{
 "cells": [
  {
   "cell_type": "markdown",
   "id": "43d3ca69-d46d-49eb-b8aa-6262b4380e39",
   "metadata": {},
   "source": [
    "## Goal : Build an image classifier using deep learning (CNN) to recognize handwritten digits from 0 to 9 using the MNIST dataset."
   ]
  },
  {
   "cell_type": "markdown",
   "id": "bbf24372-b222-494c-b00f-deb132b17b54",
   "metadata": {},
   "source": [
    "## Import libraries"
   ]
  },
  {
   "cell_type": "code",
   "execution_count": 16,
   "id": "59eaade1-27bb-4a25-823e-646c528e8043",
   "metadata": {},
   "outputs": [],
   "source": [
    "import numpy as np\n",
    "import matplotlib.pyplot as plt # For plotting graphs\n",
    "import tensorflow as tf   # Deep learning framework\n",
    "from tensorflow.keras.models import Sequential # Model architecture\n",
    "from tensorflow.keras.layers import Conv2D, MaxPooling2D, Flatten, Dense # CNN Layers\n",
    "from tensorflow.keras.datasets import mnist # Built in dataset (MNIST)\n",
    "from tensorflow.keras.utils import to_categorical # Converts labels to one-hot"
   ]
  },
  {
   "cell_type": "markdown",
   "id": "b31df50a-df99-4ff3-a396-4a44da31c596",
   "metadata": {},
   "source": [
    "## Load and Preprocess Data"
   ]
  },
  {
   "cell_type": "code",
   "execution_count": 4,
   "id": "10e834ee-c570-4f2f-b165-7825681c48c9",
   "metadata": {},
   "outputs": [],
   "source": [
    "(x_train,y_train),(x_test,y_test)= mnist.load_data() # Loading the data\n",
    "\n",
    "x_train = x_train.reshape((x_train.shape[0],28,28,1)).astype('float32')/255 # Normalize and reshape\n",
    "x_test  = x_test.reshape((x_test.shape[0],28,28,1)).astype('float32')/255 \n",
    "\n",
    "y_train = to_categorical(y_train) # Convert to one-hot :[0 0 0 1 0 0 0 0 0 0 ]\n",
    "y_test  = to_categorical(y_test)"
   ]
  },
  {
   "cell_type": "markdown",
   "id": "a1608ced-f152-4ec5-85b8-949e8279108a",
   "metadata": {},
   "source": [
    "## Build CNN Model"
   ]
  },
  {
   "cell_type": "code",
   "execution_count": 10,
   "id": "57bcf789-0aab-422a-81f2-01b45777ca28",
   "metadata": {},
   "outputs": [
    {
     "name": "stdout",
     "output_type": "stream",
     "text": [
      "WARNING:tensorflow:From C:\\Users\\Aman Sinha\\AppData\\Local\\Programs\\Python\\Python311\\Lib\\site-packages\\keras\\src\\backend.py:873: The name tf.get_default_graph is deprecated. Please use tf.compat.v1.get_default_graph instead.\n",
      "\n",
      "WARNING:tensorflow:From C:\\Users\\Aman Sinha\\AppData\\Local\\Programs\\Python\\Python311\\Lib\\site-packages\\keras\\src\\layers\\pooling\\max_pooling2d.py:161: The name tf.nn.max_pool is deprecated. Please use tf.nn.max_pool2d instead.\n",
      "\n"
     ]
    }
   ],
   "source": [
    "model = Sequential([\n",
    "    Conv2D(32,(3,3), activation='relu', input_shape=(28,28,1)), # Detects edges/pattern\n",
    "    MaxPooling2D((2,2)), # Shrinks size, keeps info\n",
    "    Conv2D(64,(3,3), activation = 'relu'), # Deeper features\n",
    "    MaxPooling2D((2,2)),\n",
    "    Flatten(), # Converts to 1D for dense layer\n",
    "    Dense(64, activation = 'relu'), # Hidden layer\n",
    "    Dense(10, activation = 'softmax') # 10 Classes =  digits 0-9\n",
    "])"
   ]
  },
  {
   "cell_type": "markdown",
   "id": "bdae2eb4-dc7c-47dd-ae8f-1b4db6815851",
   "metadata": {},
   "source": [
    "# Compile the Model"
   ]
  },
  {
   "cell_type": "code",
   "execution_count": 12,
   "id": "3cba3d00-6499-47a9-9eb4-db41eb677d1d",
   "metadata": {},
   "outputs": [
    {
     "name": "stdout",
     "output_type": "stream",
     "text": [
      "WARNING:tensorflow:From C:\\Users\\Aman Sinha\\AppData\\Local\\Programs\\Python\\Python311\\Lib\\site-packages\\keras\\src\\optimizers\\__init__.py:309: The name tf.train.Optimizer is deprecated. Please use tf.compat.v1.train.Optimizer instead.\n",
      "\n"
     ]
    }
   ],
   "source": [
    "model.compile(\n",
    "    optimizer = 'adam', # Auto- adjusts learning\n",
    "    loss = 'categorical_crossentropy', # For multi-class classification\n",
    "    metrics =['accuracy'] # To monitor accuracy\n",
    ")"
   ]
  },
  {
   "cell_type": "markdown",
   "id": "c7f9ed0e-bc17-4b19-b603-df2b1361084b",
   "metadata": {},
   "source": [
    "# Train the Model"
   ]
  },
  {
   "cell_type": "code",
   "execution_count": 13,
   "id": "4ab48f5f-5881-438d-bdee-3bf07c29d22b",
   "metadata": {},
   "outputs": [
    {
     "name": "stdout",
     "output_type": "stream",
     "text": [
      "Epoch 1/5\n",
      "WARNING:tensorflow:From C:\\Users\\Aman Sinha\\AppData\\Local\\Programs\\Python\\Python311\\Lib\\site-packages\\keras\\src\\utils\\tf_utils.py:492: The name tf.ragged.RaggedTensorValue is deprecated. Please use tf.compat.v1.ragged.RaggedTensorValue instead.\n",
      "\n",
      "WARNING:tensorflow:From C:\\Users\\Aman Sinha\\AppData\\Local\\Programs\\Python\\Python311\\Lib\\site-packages\\keras\\src\\engine\\base_layer_utils.py:384: The name tf.executing_eagerly_outside_functions is deprecated. Please use tf.compat.v1.executing_eagerly_outside_functions instead.\n",
      "\n",
      "750/750 [==============================] - 28s 29ms/step - loss: 0.1995 - accuracy: 0.9408 - val_loss: 0.0782 - val_accuracy: 0.9768\n",
      "Epoch 2/5\n",
      "750/750 [==============================] - 22s 29ms/step - loss: 0.0602 - accuracy: 0.9818 - val_loss: 0.0517 - val_accuracy: 0.9854\n",
      "Epoch 3/5\n",
      "750/750 [==============================] - 25s 33ms/step - loss: 0.0417 - accuracy: 0.9864 - val_loss: 0.0481 - val_accuracy: 0.9862\n",
      "Epoch 4/5\n",
      "750/750 [==============================] - 22s 29ms/step - loss: 0.0323 - accuracy: 0.9900 - val_loss: 0.0419 - val_accuracy: 0.9876\n",
      "Epoch 5/5\n",
      "750/750 [==============================] - 22s 29ms/step - loss: 0.0249 - accuracy: 0.9926 - val_loss: 0.0394 - val_accuracy: 0.9880\n"
     ]
    }
   ],
   "source": [
    "history = model.fit(\n",
    "    x_train, y_train, \n",
    "    epochs=5,\n",
    "    batch_size = 64,\n",
    "    validation_split = 0.2\n",
    ")"
   ]
  },
  {
   "cell_type": "markdown",
   "id": "abf56b53-5577-4977-8d50-3c3746a0ee9e",
   "metadata": {},
   "source": [
    "## Evaluate on Test Data"
   ]
  },
  {
   "cell_type": "code",
   "execution_count": 14,
   "id": "8f91f7b9-d3a7-444f-aef5-ac93cfc53056",
   "metadata": {},
   "outputs": [
    {
     "name": "stdout",
     "output_type": "stream",
     "text": [
      "313/313 [==============================] - 5s 15ms/step - loss: 0.0301 - accuracy: 0.9893\n",
      "Test Accuracy: 0.989300012588501\n"
     ]
    }
   ],
   "source": [
    "test_loss, test_acc= model.evaluate(x_test,y_test)\n",
    "print(\"Test Accuracy:\", test_acc)"
   ]
  },
  {
   "cell_type": "markdown",
   "id": "a7b75fde-8f0c-4359-8a8b-df4ee01bd8db",
   "metadata": {},
   "source": [
    "# Save and Load Model ( Industry Practice )\n"
   ]
  },
  {
   "cell_type": "code",
   "execution_count": 18,
   "id": "799b8dea-f075-480b-be1d-ba984a973959",
   "metadata": {},
   "outputs": [],
   "source": [
    "model.save(\"models/cnn_model.h5\") # Save\n",
    "model=tf.keras.models.load_model(\"models/cnn_model.h5\") # We can load later"
   ]
  },
  {
   "cell_type": "markdown",
   "id": "7fb19fda-0921-414d-88b7-cf78fa4d4f81",
   "metadata": {},
   "source": [
    "## Predict Example Digits"
   ]
  },
  {
   "cell_type": "code",
   "execution_count": 22,
   "id": "ade7011a-5a2b-4921-8f48-0dfab5d0149c",
   "metadata": {},
   "outputs": [
    {
     "name": "stdout",
     "output_type": "stream",
     "text": [
      "313/313 [==============================] - 5s 16ms/step\n",
      "2\n"
     ]
    }
   ],
   "source": [
    "predictions = model.predict(x_test)\n",
    "print(np.argmax(predictions[1])) # Output : Predicted Digit"
   ]
  },
  {
   "cell_type": "code",
   "execution_count": null,
   "id": "1d4c31bb-1e8f-4e07-b9f0-a653f6a6df63",
   "metadata": {},
   "outputs": [],
   "source": []
  }
 ],
 "metadata": {
  "kernelspec": {
   "display_name": "Python 3 (ipykernel)",
   "language": "python",
   "name": "python3"
  },
  "language_info": {
   "codemirror_mode": {
    "name": "ipython",
    "version": 3
   },
   "file_extension": ".py",
   "mimetype": "text/x-python",
   "name": "python",
   "nbconvert_exporter": "python",
   "pygments_lexer": "ipython3",
   "version": "3.11.0"
  }
 },
 "nbformat": 4,
 "nbformat_minor": 5
}
