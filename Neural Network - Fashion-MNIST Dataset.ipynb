{
 "cells": [
  {
   "cell_type": "markdown",
   "id": "82fda909-d513-467f-8776-ba17560cec74",
   "metadata": {},
   "source": [
    "## Neural Network - Fashion-MNIST Dataset"
   ]
  },
  {
   "cell_type": "markdown",
   "id": "3757ef4f-23fe-43db-8dda-64775c46ecbf",
   "metadata": {},
   "source": [
    "# Import Tensorflow and Keras"
   ]
  },
  {
   "cell_type": "code",
   "execution_count": 17,
   "id": "eda75c20-cae0-4a8a-bcf7-2971d3a82462",
   "metadata": {},
   "outputs": [],
   "source": [
    "import tensorflow as tf\n",
    "from tensorflow import keras\n",
    "from tensorflow.keras import layers\n",
    "from tensorflow.keras.models import Sequential\n",
    "from tensorflow.keras.layers import Dense, Flatten\n"
   ]
  },
  {
   "cell_type": "markdown",
   "id": "b81a5da2-9f7e-4a83-b67d-1878fe7ba3fb",
   "metadata": {},
   "source": [
    "## Load the Dataset - MNIST (MNIST = 28x28 grayscale images of handwritten digits (0–9))"
   ]
  },
  {
   "cell_type": "code",
   "execution_count": 18,
   "id": "e61210b6-f84a-4e2f-8fe1-2eddf8c6b982",
   "metadata": {},
   "outputs": [],
   "source": [
    "from tensorflow.keras.datasets import mnist\n",
    "(X_train,y_train),(X_test,y_test)= mnist.load_data()"
   ]
  },
  {
   "cell_type": "markdown",
   "id": "78cb96e8-c0e2-4f26-a731-60d6b29fe0ad",
   "metadata": {},
   "source": [
    "x_train, x_test: Image pixel data\n",
    "\n",
    "y_train, y_test: Corresponding labels (digit 0–9"
   ]
  },
  {
   "cell_type": "markdown",
   "id": "d0da53f9-07a7-4031-947b-ac69d3294449",
   "metadata": {},
   "source": [
    "## Normalize the data (We scale pixel values from [0–255] to [0–1]\n",
    "Neural nets learn faster with small, consistent input)"
   ]
  },
  {
   "cell_type": "code",
   "execution_count": 19,
   "id": "0820747c-f8f8-48e2-a81d-bc58f13776da",
   "metadata": {},
   "outputs": [],
   "source": [
    "x_train = x_train/255.0\n",
    "x_train = x_test/255.0"
   ]
  },
  {
   "cell_type": "markdown",
   "id": "0e848ffe-7a89-4eb9-bc5f-55cc40750fc8",
   "metadata": {},
   "source": [
    "##  Build the Model (Sequential)"
   ]
  },
  {
   "cell_type": "code",
   "execution_count": 21,
   "id": "33c6165f-4af7-40f3-a4a7-a282ec1d54a2",
   "metadata": {},
   "outputs": [
    {
     "name": "stdout",
     "output_type": "stream",
     "text": [
      "WARNING:tensorflow:From C:\\Users\\Aman Sinha\\AppData\\Local\\Programs\\Python\\Python311\\Lib\\site-packages\\keras\\src\\backend.py:873: The name tf.get_default_graph is deprecated. Please use tf.compat.v1.get_default_graph instead.\n",
      "\n"
     ]
    }
   ],
   "source": [
    "model = keras.Sequential([\n",
    "    layers.Flatten(input_shape=(28,28)), # converts 2D to 1D\n",
    "    layers.Dense(128, activation='relu'), # hidden layer\n",
    "    layers.Dropout(0.2), #Prevent overfitting\n",
    "    layers.Dense(10,activation=\"softmax\")\n",
    "])"
   ]
  },
  {
   "cell_type": "markdown",
   "id": "a15fbebf-e7ff-4d9d-83a1-d44dc52a7435",
   "metadata": {},
   "source": [
    "# Complie the Model"
   ]
  },
  {
   "cell_type": "code",
   "execution_count": 23,
   "id": "be981d19-229f-4346-b681-de6bca03f3ca",
   "metadata": {},
   "outputs": [
    {
     "name": "stdout",
     "output_type": "stream",
     "text": [
      "WARNING:tensorflow:From C:\\Users\\Aman Sinha\\AppData\\Local\\Programs\\Python\\Python311\\Lib\\site-packages\\keras\\src\\optimizers\\__init__.py:309: The name tf.train.Optimizer is deprecated. Please use tf.compat.v1.train.Optimizer instead.\n",
      "\n"
     ]
    }
   ],
   "source": [
    "model.compile(optimizer =\"adam\",\n",
    "              loss = 'sparse_categorical_crossentropy',\n",
    "              metrics=['accuracy'])"
   ]
  },
  {
   "cell_type": "markdown",
   "id": "45e5e3a8-13fe-4a38-aeb0-3474882148ca",
   "metadata": {},
   "source": [
    "# Train the model"
   ]
  },
  {
   "cell_type": "code",
   "execution_count": 24,
   "id": "5d15892d-2b06-41bd-8116-dc8562e1f6bd",
   "metadata": {},
   "outputs": [
    {
     "name": "stdout",
     "output_type": "stream",
     "text": [
      "Epoch 1/5\n",
      "WARNING:tensorflow:From C:\\Users\\Aman Sinha\\AppData\\Local\\Programs\\Python\\Python311\\Lib\\site-packages\\keras\\src\\utils\\tf_utils.py:492: The name tf.ragged.RaggedTensorValue is deprecated. Please use tf.compat.v1.ragged.RaggedTensorValue instead.\n",
      "\n",
      "WARNING:tensorflow:From C:\\Users\\Aman Sinha\\AppData\\Local\\Programs\\Python\\Python311\\Lib\\site-packages\\keras\\src\\engine\\base_layer_utils.py:384: The name tf.executing_eagerly_outside_functions is deprecated. Please use tf.compat.v1.executing_eagerly_outside_functions instead.\n",
      "\n",
      "1875/1875 [==============================] - 6s 3ms/step - loss: 2.4572 - accuracy: 0.7460 \n",
      "Epoch 2/5\n",
      "1875/1875 [==============================] - 5s 3ms/step - loss: 0.6198 - accuracy: 0.8364\n",
      "Epoch 3/5\n",
      "1875/1875 [==============================] - 5s 3ms/step - loss: 0.4983 - accuracy: 0.8684\n",
      "Epoch 4/5\n",
      "1875/1875 [==============================] - 5s 3ms/step - loss: 0.4278 - accuracy: 0.8863\n",
      "Epoch 5/5\n",
      "1875/1875 [==============================] - 6s 3ms/step - loss: 0.3858 - accuracy: 0.8996\n"
     ]
    },
    {
     "data": {
      "text/plain": [
       "<keras.src.callbacks.History at 0x20594f5c350>"
      ]
     },
     "execution_count": 24,
     "metadata": {},
     "output_type": "execute_result"
    }
   ],
   "source": [
    "model.fit(X_train,y_train, epochs=5)"
   ]
  },
  {
   "cell_type": "markdown",
   "id": "6df34b1d-75db-4e37-8e71-3659ac81673f",
   "metadata": {},
   "source": [
    "## Evaluate perfomance"
   ]
  },
  {
   "cell_type": "code",
   "execution_count": 26,
   "id": "d1d022b7-7bf3-4b30-bfa3-b20c8bddd6cc",
   "metadata": {},
   "outputs": [
    {
     "name": "stdout",
     "output_type": "stream",
     "text": [
      "313/313 [==============================] - 1s 2ms/step - loss: 0.3205 - accuracy: 0.9327\n",
      "Test accuracy: 0.932699978351593\n"
     ]
    }
   ],
   "source": [
    "test_loss, test_acc = model.evaluate(X_test, y_test)\n",
    "print(\"Test accuracy:\", test_acc)"
   ]
  },
  {
   "cell_type": "markdown",
   "id": "a57b4498-202f-4670-a4c9-7f721a53d4b7",
   "metadata": {},
   "source": [
    "“Model evaluated on 313 batches of test data and achieved a test accuracy of ~93%, with a final loss of 0.32. That means the model generalized well on unseen data and didn’t overfit"
   ]
  },
  {
   "cell_type": "code",
   "execution_count": null,
   "id": "05cf6263-f3e8-4a67-a8f3-0bbc025b0361",
   "metadata": {},
   "outputs": [],
   "source": []
  }
 ],
 "metadata": {
  "kernelspec": {
   "display_name": "Python 3 (ipykernel)",
   "language": "python",
   "name": "python3"
  },
  "language_info": {
   "codemirror_mode": {
    "name": "ipython",
    "version": 3
   },
   "file_extension": ".py",
   "mimetype": "text/x-python",
   "name": "python",
   "nbconvert_exporter": "python",
   "pygments_lexer": "ipython3",
   "version": "3.11.0"
  }
 },
 "nbformat": 4,
 "nbformat_minor": 5
}
