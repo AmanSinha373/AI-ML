{
 "cells": [
  {
   "cell_type": "markdown",
   "id": "88b54e53-33da-4fd3-869d-692cf21403cb",
   "metadata": {},
   "source": [
    "Scalars"
   ]
  },
  {
   "cell_type": "code",
   "execution_count": 2,
   "id": "8fd8978c-17b0-46ec-8e3b-45d958a0cffc",
   "metadata": {},
   "outputs": [
    {
     "name": "stdout",
     "output_type": "stream",
     "text": [
      "A scalar is just a single number 5\n"
     ]
    }
   ],
   "source": [
    "x= 5\n",
    "print(\"A scalar is just a single number\",x)"
   ]
  },
  {
   "cell_type": "markdown",
   "id": "ec7b2473-29b3-4309-a03e-131632f3ac87",
   "metadata": {},
   "source": [
    "Vectors - A vector is like an arrow - it has magnitude(lenght) and direction"
   ]
  },
  {
   "cell_type": "code",
   "execution_count": 7,
   "id": "0f1872ef-4ad2-4216-824d-6fb7b0383672",
   "metadata": {},
   "outputs": [],
   "source": [
    "import numpy as np\n",
    "v= np.array([3,4]) # this is a 2D vector (x=3, y=4) - like pointing from (0,0) to (3,4)"
   ]
  },
  {
   "cell_type": "markdown",
   "id": "dffb440f-507d-41bc-9d6f-220835a7d7d7",
   "metadata": {},
   "source": [
    "To find how long the arrow is"
   ]
  },
  {
   "cell_type": "code",
   "execution_count": 8,
   "id": "790769df-19b2-434b-97c2-b96d7fc97e2a",
   "metadata": {},
   "outputs": [
    {
     "name": "stdout",
     "output_type": "stream",
     "text": [
      "5.0\n"
     ]
    }
   ],
   "source": [
    "length = np.linalg.norm(v)\n",
    "print(length) # sqrt(3^2 + 4^2) = 5"
   ]
  },
  {
   "cell_type": "markdown",
   "id": "e0c7e44d-f002-48ec-a75e-fa4931e998a0",
   "metadata": {},
   "source": [
    "Matrices - A matrix is like a table of numbers"
   ]
  },
  {
   "cell_type": "code",
   "execution_count": 9,
   "id": "9f80babe-d560-4b02-9731-8551c4e84f21",
   "metadata": {},
   "outputs": [
    {
     "name": "stdout",
     "output_type": "stream",
     "text": [
      "[[1 2]\n",
      " [3 4]]\n"
     ]
    }
   ],
   "source": [
    "matrix= np.array([[1,2],[3,4]])\n",
    "print(matrix)"
   ]
  },
  {
   "cell_type": "markdown",
   "id": "6032fb1f-426a-4b71-94dc-8543dcdb5660",
   "metadata": {},
   "source": [
    "Dot product (Vector Multiplication)"
   ]
  },
  {
   "cell_type": "code",
   "execution_count": 13,
   "id": "0eb6a226-a435-48cf-9d2f-5fc5bd126555",
   "metadata": {},
   "outputs": [
    {
     "name": "stdout",
     "output_type": "stream",
     "text": [
      "11\n"
     ]
    }
   ],
   "source": [
    "a = np.array([1,2])\n",
    "b= np.array([3,4])\n",
    "dot_product= np.dot(a,b) # 1*3+2*4= 11\n",
    "print(dot_product)"
   ]
  },
  {
   "cell_type": "markdown",
   "id": "df67271b-b512-41cd-902e-64d41d37e427",
   "metadata": {},
   "source": [
    "Matrix Multiplication"
   ]
  },
  {
   "cell_type": "code",
   "execution_count": 15,
   "id": "28736db4-2e38-461c-8a28-2c13fedbf5dc",
   "metadata": {},
   "outputs": [
    {
     "name": "stdout",
     "output_type": "stream",
     "text": [
      "[[19 22]\n",
      " [43 50]]\n"
     ]
    }
   ],
   "source": [
    "A = np.array ([[1,2],[3,4]])\n",
    "B = np.array ([[5,6],[7,8]])\n",
    "result = np.dot(A,B)\n",
    "print(result)"
   ]
  },
  {
   "cell_type": "markdown",
   "id": "98b2b5ab-9d39-4d1e-9370-a9c2e427c00b",
   "metadata": {},
   "source": [
    "Example"
   ]
  },
  {
   "cell_type": "code",
   "execution_count": 16,
   "id": "c74523df-023c-4c2a-b456-48cc3e65dfd9",
   "metadata": {},
   "outputs": [
    {
     "name": "stdout",
     "output_type": "stream",
     "text": [
      "3.605551275463989\n",
      "4.123105625617661\n",
      "7.810249675906654\n",
      "14\n",
      "[[2 3]\n",
      " [1 4]\n",
      " [5 6]]\n"
     ]
    }
   ],
   "source": [
    "\n",
    "\n",
    "v1 = np.array([2, 3])\n",
    "v2 = np.array([1, 4])\n",
    "v3 = np.array([5, 6])\n",
    "\n",
    "# Lengths\n",
    "print(np.linalg.norm(v1))\n",
    "print(np.linalg.norm(v2))\n",
    "print(np.linalg.norm(v3))\n",
    "\n",
    "# Dot product\n",
    "print(np.dot(v1, v2))\n",
    "\n",
    "# Combine into matrix\n",
    "all_vectors = np.array([v1, v2, v3])\n",
    "print(all_vectors)\n"
   ]
  },
  {
   "cell_type": "code",
   "execution_count": null,
   "id": "fbdcee1c-97db-46f1-b901-c7b19957f0c3",
   "metadata": {},
   "outputs": [],
   "source": []
  }
 ],
 "metadata": {
  "kernelspec": {
   "display_name": "Python 3 (ipykernel)",
   "language": "python",
   "name": "python3"
  },
  "language_info": {
   "codemirror_mode": {
    "name": "ipython",
    "version": 3
   },
   "file_extension": ".py",
   "mimetype": "text/x-python",
   "name": "python",
   "nbconvert_exporter": "python",
   "pygments_lexer": "ipython3",
   "version": "3.11.0"
  }
 },
 "nbformat": 4,
 "nbformat_minor": 5
}
